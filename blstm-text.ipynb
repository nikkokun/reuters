{
 "cells": [
  {
   "cell_type": "markdown",
   "metadata": {},
   "source": [
    "# Imports"
   ]
  },
  {
   "cell_type": "code",
   "execution_count": 36,
   "metadata": {},
   "outputs": [],
   "source": [
    "import pandas as pd\n",
    "import numpy as np\n",
    "import codecs\n",
    "\n",
    "import MeCab\n",
    "import nltk\n",
    "from nltk.stem.porter import PorterStemmer\n",
    "import neologdn\n",
    "from bs4 import BeautifulSoup\n",
    "import re\n",
    "\n",
    "from gensim.models import Word2Vec\n",
    "\n",
    "from sklearn.preprocessing import LabelEncoder\n",
    "from sklearn.preprocessing import OneHotEncoder\n",
    "from sklearn.linear_model import LogisticRegression\n",
    "\n",
    "import tensorflow as tf\n",
    "from keras import backend as K\n",
    "config = tf.ConfigProto()\n",
    "config.gpu_options.allow_growth = True\n",
    "sess = tf.Session(config=config)\n",
    "K.set_session(sess)\n",
    "from keras_preprocessing import sequence\n",
    "from keras.preprocessing.sequence import pad_sequences\n",
    "from keras.models import Model, Sequential\n",
    "from keras import regularizers\n",
    "from keras.layers import Input, Concatenate, Embedding, Conv1D, MaxPooling1D, Flatten, Dense, BatchNormalization, Activation, Dropout, LSTM, Bidirectional\n",
    "from keras.layers import CuDNNLSTM, Conv2D, MaxPool2D\n",
    "from keras_preprocessing.text import Tokenizer\n",
    "from keras.callbacks import ModelCheckpoint\n",
    "from keras.constraints import unit_norm \n",
    "from keras.layers import GaussianNoise\n",
    "from keras.models import load_model\n",
    "import keras\n",
    "\n",
    "from AdamW_Keras.AdamW import AdamW\n",
    "\n",
    "import lightgbm as lgb\n",
    "from sklearn import model_selection\n",
    "from sklearn.model_selection import ShuffleSplit\n",
    "from sklearn.metrics import classification_report\n",
    "from sklearn.model_selection import train_test_split\n",
    "from sklearn.metrics import precision_recall_fscore_support\n",
    "\n",
    "\n",
    "from annoy import AnnoyIndex"
   ]
  },
  {
   "cell_type": "markdown",
   "metadata": {},
   "source": [
    "# Load Data"
   ]
  },
  {
   "cell_type": "code",
   "execution_count": 37,
   "metadata": {},
   "outputs": [],
   "source": [
    "#seriesのid, content, genreの情報を読み込み -> np.array\n",
    "series_path = '../series-20190310.csv'\n",
    "with codecs.open(series_path, 'r', 'utf-8', 'ignore') as f:\n",
    "    series = pd.read_csv(f)\n",
    "series_id = series['series_id'].values\n",
    "series_content = series['series_content'].values\n",
    "genre_id = series['genre_id'].values"
   ]
  },
  {
   "cell_type": "markdown",
   "metadata": {},
   "source": [
    "# Global Variables"
   ]
  },
  {
   "cell_type": "code",
   "execution_count": 38,
   "metadata": {},
   "outputs": [],
   "source": [
    "MAX_SEQUENCE_LENGTH = 300\n",
    "MAX_NB_WORDS = 20000\n",
    "EMBEDDING_DIM = 300\n",
    "VALIDATION_SPLIT = 0.3"
   ]
  },
  {
   "cell_type": "code",
   "execution_count": 39,
   "metadata": {},
   "outputs": [],
   "source": [
    "DROPOUT_RATE = 0.2"
   ]
  },
  {
   "cell_type": "markdown",
   "metadata": {},
   "source": [
    "# Helper Functions"
   ]
  },
  {
   "cell_type": "code",
   "execution_count": 40,
   "metadata": {},
   "outputs": [],
   "source": [
    "stopwords = []\n",
    "with codecs.open(\"../Japanese.txt\", 'r', 'utf-8', 'ignore') as fp:\n",
    "    stopwords = fp.read().splitlines() "
   ]
  },
  {
   "cell_type": "code",
   "execution_count": 41,
   "metadata": {
    "code_folding": []
   },
   "outputs": [],
   "source": [
    "def analyzer(text):\n",
    "    tagger = MeCab.Tagger('')\n",
    "    CONTENT_WORD_POS = ('名詞', '動詞', '形容詞', '副詞')\n",
    "    stemmer = PorterStemmer()\n",
    "    jp_sent_tokenizer = nltk.RegexpTokenizer(u'[^　「」！？。]*[！？。]')\n",
    "    \n",
    "    \n",
    "    def normalize_text(s):\n",
    "        \n",
    "        def maketrans(f, t):\n",
    "            return {ord(x): ord(y) for x, y in zip(f, t)}\n",
    "\n",
    "        \n",
    "        normalized_text = neologdn.normalize(s)\n",
    "        soup = BeautifulSoup(normalized_text)\n",
    "        cleaned_text = soup.get_text()\n",
    "        \n",
    "        cleaned_text = re.sub(r'http\\S+', '', cleaned_text)\n",
    "        cleaned_text = re.sub('[˗֊‐‑‒–⁃⁻₋−]+', '-', cleaned_text)\n",
    "        cleaned_text = re.sub('[﹣－ｰ—―─━ー]+', 'ー', cleaned_text)\n",
    "        cleaned_text = re.sub('[~∼∾〜〰～]', '', cleaned_text)\n",
    "        cleaned_text = re.sub('[0-9]', '', cleaned_text)\n",
    "        cleaned_text = cleaned_text.translate(maketrans('!\"#$%&\\'()*+,-./:;<=>?@[¥]^_`{|}~｡､･｢｣','！”＃＄％＆’（）＊＋，－．／：；＜＝＞？＠［￥］＾＿｀｛｜｝〜。、・「」'))\n",
    "        cleaned_text = re.sub(re.compile(\"[!-/:-@[-`{-~]\"), '', cleaned_text)\n",
    "        cleaned_text = re.sub(re.compile('[!\"#$%&\\'()*+,-./:;<=>?@[¥]^_`{|}~｡､･｢｣]'), '', cleaned_text)\n",
    "        cleaned_text = re.sub(re.compile('[■□◆◇◯“…【】『』！”＃＄％＆’（）＊＋，－．／：；＜＝＞？＠［￥］＾＿｀｛｜｝〜。、・「」]'), '', cleaned_text)\n",
    "        cleaned_text = re.sub('[’]', '\\'', cleaned_text)\n",
    "        cleaned_text = re.sub('[”]', '\"', cleaned_text)\n",
    "        cleaned_text = cleaned_text.replace('\\n','')\n",
    "        cleaned_text = cleaned_text.replace('\\r','')\n",
    "        \n",
    "        return cleaned_text\n",
    "            \n",
    "    \n",
    "    def tokenize(s):\n",
    "        lines = tagger.parse(s).splitlines()[:-1]\n",
    "        words = []\n",
    "        for line in lines:\n",
    "            if line == '':\n",
    "                continue\n",
    "            else:\n",
    "                try:\n",
    "                    surface, feature = line.split('\\t')\n",
    "                    if feature.startswith(CONTENT_WORD_POS) and ',非自立,' not in feature:\n",
    "                        words.append(surface)\n",
    "\n",
    "                except:\n",
    "                    print(line)\n",
    "                \n",
    "        return words\n",
    "    \n",
    "    def sent_tokenize(s):\n",
    "        sentences = jp_sent_tokenizer.tokenize(s)\n",
    "        return sentences\n",
    "    \n",
    "    def lemmatize(words):\n",
    "        \n",
    "        def isEnglish(s):\n",
    "                try:\n",
    "                    s.encode(encoding='utf-8').decode('ascii')\n",
    "                except UnicodeDecodeError:\n",
    "                    return False\n",
    "                else:\n",
    "                    return True\n",
    "                \n",
    "        lemmas = []\n",
    "        for word in cleaned_words:\n",
    "            if not isEnglish(word):\n",
    "                try:\n",
    "                    for line in tagger.parse(word).splitlines()[:-1]:\n",
    "                        surface, feature = line.split('\\t')\n",
    "                        if feature.split(',')[6] != '*':\n",
    "                            lemmas.append(feature.split(',')[6])\n",
    "                            \n",
    "                except:\n",
    "                    print(word)\n",
    "            else:\n",
    "                lemmas.append(word)\n",
    "                    \n",
    "        return lemmas\n",
    "\n",
    "    cleaned_text = normalize_text(text)\n",
    "    words = tokenize(cleaned_text)\n",
    "    cleaned_words = list(filter(lambda x: x not in stopwords, words))\n",
    "    cleaned_words =  list(filter(None, cleaned_words))\n",
    "    lemmas = lemmatize(cleaned_words)\n",
    "    \n",
    "    return lemmas"
   ]
  },
  {
   "cell_type": "code",
   "execution_count": 42,
   "metadata": {},
   "outputs": [],
   "source": [
    "def evaluate_performance(X, y):\n",
    "    \n",
    "    clf = LogisticRegression()\n",
    "    \n",
    "    scoring = {\"p\": \"precision_macro\",\n",
    "               \"r\": \"recall_macro\",\n",
    "               \"f\":\"f1_macro\",\n",
    "               \"a\": \"accuracy\"\n",
    "              }\n",
    "    \n",
    "    cv = ShuffleSplit(n_splits=3, test_size=0.3, random_state=0)\n",
    "    \n",
    "    results = model_selection.cross_validate(clf,\n",
    "                                             X,\n",
    "                                             y,\n",
    "                                             scoring=scoring,\n",
    "                                             cv=cv,\n",
    "                                             return_train_score=True\n",
    "                                            )\n",
    "    return(results)"
   ]
  },
  {
   "cell_type": "markdown",
   "metadata": {},
   "source": [
    "# Preprocessing"
   ]
  },
  {
   "cell_type": "code",
   "execution_count": 43,
   "metadata": {},
   "outputs": [],
   "source": [
    "corpus = [analyzer(text) for text in series_content]"
   ]
  },
  {
   "cell_type": "code",
   "execution_count": 44,
   "metadata": {},
   "outputs": [],
   "source": [
    "tokenizer = Tokenizer(num_words=MAX_NB_WORDS)\n",
    "tokenizer.fit_on_texts(corpus)"
   ]
  },
  {
   "cell_type": "code",
   "execution_count": 45,
   "metadata": {},
   "outputs": [],
   "source": [
    "sequences = tokenizer.texts_to_sequences(corpus)\n",
    "word_index = tokenizer.word_index\n",
    "data = pad_sequences(sequences, maxlen=MAX_SEQUENCE_LENGTH)"
   ]
  },
  {
   "cell_type": "code",
   "execution_count": 46,
   "metadata": {},
   "outputs": [],
   "source": [
    "enc = LabelEncoder().fit(genre_id)\n",
    "tmp_labels = enc.transform(genre_id)"
   ]
  },
  {
   "cell_type": "code",
   "execution_count": 47,
   "metadata": {},
   "outputs": [],
   "source": [
    "targets = np.array(tmp_labels).reshape(-1)\n",
    "labels = np.eye(17)[targets]"
   ]
  },
  {
   "cell_type": "code",
   "execution_count": 48,
   "metadata": {},
   "outputs": [],
   "source": [
    "indices = np.arange(data.shape[0])\n",
    "np.random.shuffle(indices)\n",
    "data = data[indices]"
   ]
  },
  {
   "cell_type": "code",
   "execution_count": 49,
   "metadata": {},
   "outputs": [],
   "source": [
    "labels = labels[indices]"
   ]
  },
  {
   "cell_type": "code",
   "execution_count": 50,
   "metadata": {},
   "outputs": [],
   "source": [
    "nb_validation_samples = int(VALIDATION_SPLIT * data.shape[0])"
   ]
  },
  {
   "cell_type": "code",
   "execution_count": 51,
   "metadata": {},
   "outputs": [],
   "source": [
    "macronum = len(set(tmp_labels))"
   ]
  },
  {
   "cell_type": "code",
   "execution_count": 52,
   "metadata": {},
   "outputs": [],
   "source": [
    "x_train = data[:-nb_validation_samples]\n",
    "y_train = labels[:-nb_validation_samples]\n",
    "x_val = data[-nb_validation_samples:]\n",
    "y_val = labels[-nb_validation_samples:]\n",
    "# x_train = data\n",
    "# y_train = labels\n",
    "# x_val = x_train\n",
    "# y_val = y_train"
   ]
  },
  {
   "cell_type": "markdown",
   "metadata": {},
   "source": [
    "# Word2Vec"
   ]
  },
  {
   "cell_type": "code",
   "execution_count": 53,
   "metadata": {},
   "outputs": [],
   "source": [
    "features_num = 300\n",
    "min_word_count = 2\n",
    "context = 15\n",
    "downsampling = 1e-3\n",
    "epoch_num = 100"
   ]
  },
  {
   "cell_type": "code",
   "execution_count": 54,
   "metadata": {},
   "outputs": [],
   "source": [
    "word2vec = Word2Vec(sentences=corpus,\n",
    "                    iter=epoch_num,\n",
    "                    size=features_num,\n",
    "                    min_count=min_word_count,\n",
    "                    window=context,\n",
    "                    sample=downsampling\n",
    "                   )"
   ]
  },
  {
   "cell_type": "markdown",
   "metadata": {},
   "source": [
    "# Initial Embeddings from Word2Vec"
   ]
  },
  {
   "cell_type": "code",
   "execution_count": 55,
   "metadata": {},
   "outputs": [
    {
     "name": "stderr",
     "output_type": "stream",
     "text": [
      "/usr/local/lib/python3.5/dist-packages/ipykernel_launcher.py:5: DeprecationWarning: Call to deprecated `__getitem__` (Method will be removed in 4.0.0, use self.wv.__getitem__() instead).\n",
      "  \"\"\"\n"
     ]
    }
   ],
   "source": [
    "embeddings_index = {}\n",
    "words = word2vec.wv.vocab\n",
    "\n",
    "for word in words:\n",
    "    embeddings_index[word] = word2vec[word]"
   ]
  },
  {
   "cell_type": "code",
   "execution_count": 56,
   "metadata": {},
   "outputs": [],
   "source": [
    "embedding_matrix = np.random.random((len(word_index) + 1, EMBEDDING_DIM))\n",
    "for word, i in word_index.items():\n",
    "    embedding_vector = embeddings_index.get(word)\n",
    "    if embedding_vector is not None:\n",
    "        # words not found in embedding index will be all-zeros.\n",
    "        embedding_matrix[i] = embedding_vector"
   ]
  },
  {
   "cell_type": "markdown",
   "metadata": {},
   "source": [
    "# Model"
   ]
  },
  {
   "cell_type": "code",
   "execution_count": 57,
   "metadata": {},
   "outputs": [],
   "source": [
    "embedding_layer = Embedding(len(word_index) + 1,\n",
    "                            EMBEDDING_DIM,\n",
    "                            weights=[embedding_matrix],\n",
    "                            input_length=MAX_SEQUENCE_LENGTH,\n",
    "                            trainable=True\n",
    "                           )"
   ]
  },
  {
   "cell_type": "code",
   "execution_count": 58,
   "metadata": {},
   "outputs": [
    {
     "name": "stdout",
     "output_type": "stream",
     "text": [
      "_________________________________________________________________\n",
      "Layer (type)                 Output Shape              Param #   \n",
      "=================================================================\n",
      "input_2 (InputLayer)         (None, 300)               0         \n",
      "_________________________________________________________________\n",
      "embedding_2 (Embedding)      (None, 300, 300)          8103000   \n",
      "_________________________________________________________________\n",
      "batch_normalization_2 (Batch (None, 300, 300)          1200      \n",
      "_________________________________________________________________\n",
      "dense_encoding (Bidirectiona (None, 300)               542400    \n",
      "_________________________________________________________________\n",
      "dropout_2 (Dropout)          (None, 300)               0         \n",
      "_________________________________________________________________\n",
      "dense_2 (Dense)              (None, 17)                5117      \n",
      "=================================================================\n",
      "Total params: 8,651,717\n",
      "Trainable params: 8,651,117\n",
      "Non-trainable params: 600\n",
      "_________________________________________________________________\n"
     ]
    }
   ],
   "source": [
    "sequence_input = Input(shape=(MAX_SEQUENCE_LENGTH,), dtype='int32')\n",
    "embedded_sequences = embedding_layer(sequence_input)\n",
    "\n",
    "batch_norm = BatchNormalization()(embedded_sequences)\n",
    "\n",
    "\n",
    "l_lstm = Bidirectional(CuDNNLSTM(150,\n",
    "                            kernel_regularizer=regularizers.l2(1e-6),\n",
    "                            recurrent_regularizer=regularizers.l2(1e-6),\n",
    "                           ), name='dense_encoding')(batch_norm)\n",
    "\n",
    "l_lstm = Dropout(DROPOUT_RATE)(l_lstm)\n",
    "\n",
    "output = Dense(macronum, activation='softmax')(l_lstm)\n",
    "\n",
    "model = Model(sequence_input, output)\n",
    "model.summary()"
   ]
  },
  {
   "cell_type": "code",
   "execution_count": 59,
   "metadata": {},
   "outputs": [],
   "source": [
    "optimizer = keras.optimizers.adam(decay=1e-6)"
   ]
  },
  {
   "cell_type": "code",
   "execution_count": 60,
   "metadata": {},
   "outputs": [],
   "source": [
    "model.compile(loss='categorical_crossentropy',\n",
    "              optimizer=optimizer,\n",
    "              metrics=['acc'])"
   ]
  },
  {
   "cell_type": "code",
   "execution_count": 61,
   "metadata": {},
   "outputs": [],
   "source": [
    "model_filepath= \"./models/model-08-best.h5\""
   ]
  },
  {
   "cell_type": "code",
   "execution_count": 62,
   "metadata": {},
   "outputs": [],
   "source": [
    "checkpoint = ModelCheckpoint(model_filepath, monitor='val_acc', verbose=1, save_best_only=True, mode='max')"
   ]
  },
  {
   "cell_type": "code",
   "execution_count": 63,
   "metadata": {},
   "outputs": [],
   "source": [
    "callbacks_list = [checkpoint]"
   ]
  },
  {
   "cell_type": "code",
   "execution_count": 64,
   "metadata": {},
   "outputs": [
    {
     "name": "stdout",
     "output_type": "stream",
     "text": [
      "Train on 5051 samples, validate on 2164 samples\n",
      "Epoch 1/100\n",
      "5051/5051 [==============================] - 3s 684us/step - loss: 2.1943 - acc: 0.3389 - val_loss: 1.8460 - val_acc: 0.4418\n",
      "\n",
      "Epoch 00001: val_acc improved from -inf to 0.44177, saving model to ./models/model-08-best.h5\n",
      "Epoch 2/100\n",
      "5051/5051 [==============================] - 2s 399us/step - loss: 1.5373 - acc: 0.4981 - val_loss: 1.4116 - val_acc: 0.5476\n",
      "\n",
      "Epoch 00002: val_acc improved from 0.44177 to 0.54760, saving model to ./models/model-08-best.h5\n",
      "Epoch 3/100\n",
      "5051/5051 [==============================] - 2s 396us/step - loss: 1.1088 - acc: 0.6438 - val_loss: 1.1469 - val_acc: 0.6109\n",
      "\n",
      "Epoch 00003: val_acc improved from 0.54760 to 0.61091, saving model to ./models/model-08-best.h5\n",
      "Epoch 4/100\n",
      "5051/5051 [==============================] - 2s 395us/step - loss: 0.8274 - acc: 0.7294 - val_loss: 0.9868 - val_acc: 0.6613\n",
      "\n",
      "Epoch 00004: val_acc improved from 0.61091 to 0.66128, saving model to ./models/model-08-best.h5\n",
      "Epoch 5/100\n",
      "5051/5051 [==============================] - 2s 400us/step - loss: 0.6380 - acc: 0.7979 - val_loss: 0.9065 - val_acc: 0.6890\n",
      "\n",
      "Epoch 00005: val_acc improved from 0.66128 to 0.68900, saving model to ./models/model-08-best.h5\n",
      "Epoch 6/100\n",
      "5051/5051 [==============================] - 2s 396us/step - loss: 0.4823 - acc: 0.8529 - val_loss: 0.8402 - val_acc: 0.7204\n",
      "\n",
      "Epoch 00006: val_acc improved from 0.68900 to 0.72043, saving model to ./models/model-08-best.h5\n",
      "Epoch 7/100\n",
      "5051/5051 [==============================] - 2s 395us/step - loss: 0.3821 - acc: 0.8868 - val_loss: 0.8323 - val_acc: 0.7200\n",
      "\n",
      "Epoch 00007: val_acc did not improve from 0.72043\n",
      "Epoch 8/100\n",
      "5051/5051 [==============================] - 2s 393us/step - loss: 0.2993 - acc: 0.9091 - val_loss: 0.8286 - val_acc: 0.7260\n",
      "\n",
      "Epoch 00008: val_acc improved from 0.72043 to 0.72597, saving model to ./models/model-08-best.h5\n",
      "Epoch 9/100\n",
      "5051/5051 [==============================] - 2s 395us/step - loss: 0.2392 - acc: 0.9291 - val_loss: 0.8158 - val_acc: 0.7417\n",
      "\n",
      "Epoch 00009: val_acc improved from 0.72597 to 0.74168, saving model to ./models/model-08-best.h5\n",
      "Epoch 10/100\n",
      "5051/5051 [==============================] - 2s 392us/step - loss: 0.1896 - acc: 0.9481 - val_loss: 0.8175 - val_acc: 0.7454\n",
      "\n",
      "Epoch 00010: val_acc improved from 0.74168 to 0.74538, saving model to ./models/model-08-best.h5\n",
      "Epoch 11/100\n",
      "5051/5051 [==============================] - 2s 397us/step - loss: 0.1693 - acc: 0.9505 - val_loss: 0.8205 - val_acc: 0.7514\n",
      "\n",
      "Epoch 00011: val_acc improved from 0.74538 to 0.75139, saving model to ./models/model-08-best.h5\n",
      "Epoch 12/100\n",
      "5051/5051 [==============================] - 2s 400us/step - loss: 0.1487 - acc: 0.9564 - val_loss: 0.8523 - val_acc: 0.7486\n",
      "\n",
      "Epoch 00012: val_acc did not improve from 0.75139\n",
      "Epoch 13/100\n",
      "5051/5051 [==============================] - 2s 396us/step - loss: 0.1314 - acc: 0.9608 - val_loss: 0.8504 - val_acc: 0.7537\n",
      "\n",
      "Epoch 00013: val_acc improved from 0.75139 to 0.75370, saving model to ./models/model-08-best.h5\n",
      "Epoch 14/100\n",
      "5051/5051 [==============================] - 2s 395us/step - loss: 0.1154 - acc: 0.9618 - val_loss: 0.8757 - val_acc: 0.7532\n",
      "\n",
      "Epoch 00014: val_acc did not improve from 0.75370\n",
      "Epoch 15/100\n",
      "5051/5051 [==============================] - 2s 394us/step - loss: 0.1020 - acc: 0.9650 - val_loss: 0.8944 - val_acc: 0.7555\n",
      "\n",
      "Epoch 00015: val_acc improved from 0.75370 to 0.75555, saving model to ./models/model-08-best.h5\n",
      "Epoch 16/100\n",
      "5051/5051 [==============================] - 2s 392us/step - loss: 0.0932 - acc: 0.9693 - val_loss: 0.9040 - val_acc: 0.7611\n",
      "\n",
      "Epoch 00016: val_acc improved from 0.75555 to 0.76109, saving model to ./models/model-08-best.h5\n",
      "Epoch 17/100\n",
      "5051/5051 [==============================] - 2s 393us/step - loss: 0.0864 - acc: 0.9677 - val_loss: 0.9201 - val_acc: 0.7574\n",
      "\n",
      "Epoch 00017: val_acc did not improve from 0.76109\n",
      "Epoch 18/100\n",
      "5051/5051 [==============================] - 2s 398us/step - loss: 0.0853 - acc: 0.9699 - val_loss: 0.9203 - val_acc: 0.7542\n",
      "\n",
      "Epoch 00018: val_acc did not improve from 0.76109\n",
      "Epoch 19/100\n",
      "5051/5051 [==============================] - 2s 393us/step - loss: 0.0850 - acc: 0.9681 - val_loss: 0.9551 - val_acc: 0.7458\n",
      "\n",
      "Epoch 00019: val_acc did not improve from 0.76109\n",
      "Epoch 20/100\n",
      "5051/5051 [==============================] - 2s 396us/step - loss: 0.0967 - acc: 0.9665 - val_loss: 1.0319 - val_acc: 0.7403\n",
      "\n",
      "Epoch 00020: val_acc did not improve from 0.76109\n",
      "Epoch 21/100\n",
      "5051/5051 [==============================] - 2s 400us/step - loss: 0.1408 - acc: 0.9499 - val_loss: 0.9632 - val_acc: 0.7357\n",
      "\n",
      "Epoch 00021: val_acc did not improve from 0.76109\n",
      "Epoch 22/100\n",
      "5051/5051 [==============================] - 2s 394us/step - loss: 0.1249 - acc: 0.9604 - val_loss: 0.9050 - val_acc: 0.7408\n",
      "\n",
      "Epoch 00022: val_acc did not improve from 0.76109\n",
      "Epoch 23/100\n",
      "5051/5051 [==============================] - 2s 393us/step - loss: 0.1031 - acc: 0.9659 - val_loss: 0.9019 - val_acc: 0.7560\n",
      "\n",
      "Epoch 00023: val_acc did not improve from 0.76109\n",
      "Epoch 24/100\n",
      "5051/5051 [==============================] - 2s 394us/step - loss: 0.0845 - acc: 0.9715 - val_loss: 0.9396 - val_acc: 0.7532\n",
      "\n",
      "Epoch 00024: val_acc did not improve from 0.76109\n",
      "Epoch 25/100\n",
      "5051/5051 [==============================] - 2s 395us/step - loss: 0.0723 - acc: 0.9707 - val_loss: 0.9330 - val_acc: 0.7532\n",
      "\n",
      "Epoch 00025: val_acc did not improve from 0.76109\n",
      "Epoch 26/100\n",
      "5051/5051 [==============================] - 2s 392us/step - loss: 0.0680 - acc: 0.9703 - val_loss: 0.9535 - val_acc: 0.7555\n",
      "\n",
      "Epoch 00026: val_acc did not improve from 0.76109\n",
      "Epoch 27/100\n",
      "5051/5051 [==============================] - 2s 402us/step - loss: 0.0649 - acc: 0.9715 - val_loss: 0.9737 - val_acc: 0.7606\n",
      "\n",
      "Epoch 00027: val_acc did not improve from 0.76109\n",
      "Epoch 28/100\n",
      "5051/5051 [==============================] - 2s 394us/step - loss: 0.0616 - acc: 0.9749 - val_loss: 0.9802 - val_acc: 0.7560\n",
      "\n",
      "Epoch 00028: val_acc did not improve from 0.76109\n",
      "Epoch 29/100\n",
      "5051/5051 [==============================] - 2s 398us/step - loss: 0.0628 - acc: 0.9725 - val_loss: 0.9884 - val_acc: 0.7574\n",
      "\n",
      "Epoch 00029: val_acc did not improve from 0.76109\n",
      "Epoch 30/100\n",
      "5051/5051 [==============================] - 2s 395us/step - loss: 0.0611 - acc: 0.9735 - val_loss: 1.0130 - val_acc: 0.7560\n",
      "\n",
      "Epoch 00030: val_acc did not improve from 0.76109\n",
      "Epoch 31/100\n",
      "5051/5051 [==============================] - 2s 397us/step - loss: 0.0615 - acc: 0.9741 - val_loss: 0.9968 - val_acc: 0.7648\n",
      "\n",
      "Epoch 00031: val_acc improved from 0.76109 to 0.76479, saving model to ./models/model-08-best.h5\n",
      "Epoch 32/100\n",
      "5051/5051 [==============================] - 2s 397us/step - loss: 0.0620 - acc: 0.9739 - val_loss: 1.0084 - val_acc: 0.7579\n",
      "\n",
      "Epoch 00032: val_acc did not improve from 0.76479\n",
      "Epoch 33/100\n",
      "5051/5051 [==============================] - 2s 398us/step - loss: 0.0587 - acc: 0.9727 - val_loss: 1.0344 - val_acc: 0.7616\n",
      "\n",
      "Epoch 00033: val_acc did not improve from 0.76479\n",
      "Epoch 34/100\n",
      "5051/5051 [==============================] - 2s 396us/step - loss: 0.0573 - acc: 0.9729 - val_loss: 1.0282 - val_acc: 0.7625\n",
      "\n",
      "Epoch 00034: val_acc did not improve from 0.76479\n",
      "Epoch 35/100\n",
      "5051/5051 [==============================] - 2s 396us/step - loss: 0.0529 - acc: 0.9768 - val_loss: 1.0257 - val_acc: 0.7625\n",
      "\n",
      "Epoch 00035: val_acc did not improve from 0.76479\n",
      "Epoch 36/100\n",
      "5051/5051 [==============================] - 2s 395us/step - loss: 0.0592 - acc: 0.9731 - val_loss: 1.0499 - val_acc: 0.7602\n",
      "\n",
      "Epoch 00036: val_acc did not improve from 0.76479\n",
      "Epoch 37/100\n",
      "5051/5051 [==============================] - 2s 395us/step - loss: 0.0567 - acc: 0.9749 - val_loss: 1.0466 - val_acc: 0.7606\n",
      "\n",
      "Epoch 00037: val_acc did not improve from 0.76479\n",
      "Epoch 38/100\n",
      "5051/5051 [==============================] - 2s 395us/step - loss: 0.0562 - acc: 0.9758 - val_loss: 1.0588 - val_acc: 0.7546\n",
      "\n",
      "Epoch 00038: val_acc did not improve from 0.76479\n",
      "Epoch 39/100\n",
      "5051/5051 [==============================] - 2s 394us/step - loss: 0.0540 - acc: 0.9745 - val_loss: 1.0386 - val_acc: 0.7579\n",
      "\n",
      "Epoch 00039: val_acc did not improve from 0.76479\n",
      "Epoch 40/100\n",
      "5051/5051 [==============================] - 2s 398us/step - loss: 0.0552 - acc: 0.9745 - val_loss: 1.0771 - val_acc: 0.7555\n"
     ]
    },
    {
     "name": "stdout",
     "output_type": "stream",
     "text": [
      "\n",
      "Epoch 00040: val_acc did not improve from 0.76479\n",
      "Epoch 41/100\n",
      "5051/5051 [==============================] - 2s 398us/step - loss: 0.0543 - acc: 0.9721 - val_loss: 1.0761 - val_acc: 0.7532\n",
      "\n",
      "Epoch 00041: val_acc did not improve from 0.76479\n",
      "Epoch 42/100\n",
      "5051/5051 [==============================] - 2s 398us/step - loss: 0.0512 - acc: 0.9735 - val_loss: 1.0938 - val_acc: 0.7579\n",
      "\n",
      "Epoch 00042: val_acc did not improve from 0.76479\n",
      "Epoch 43/100\n",
      "5051/5051 [==============================] - 2s 395us/step - loss: 0.0572 - acc: 0.9737 - val_loss: 1.0866 - val_acc: 0.7592\n",
      "\n",
      "Epoch 00043: val_acc did not improve from 0.76479\n",
      "Epoch 44/100\n",
      "5051/5051 [==============================] - 2s 394us/step - loss: 0.0535 - acc: 0.9741 - val_loss: 1.0896 - val_acc: 0.7602\n",
      "\n",
      "Epoch 00044: val_acc did not improve from 0.76479\n",
      "Epoch 45/100\n",
      "5051/5051 [==============================] - 2s 398us/step - loss: 0.0534 - acc: 0.9739 - val_loss: 1.0994 - val_acc: 0.7583\n",
      "\n",
      "Epoch 00045: val_acc did not improve from 0.76479\n",
      "Epoch 46/100\n",
      "5051/5051 [==============================] - 2s 395us/step - loss: 0.0548 - acc: 0.9747 - val_loss: 1.0749 - val_acc: 0.7597\n",
      "\n",
      "Epoch 00046: val_acc did not improve from 0.76479\n",
      "Epoch 47/100\n",
      "5051/5051 [==============================] - 2s 395us/step - loss: 0.0539 - acc: 0.9774 - val_loss: 1.0657 - val_acc: 0.7588\n",
      "\n",
      "Epoch 00047: val_acc did not improve from 0.76479\n",
      "Epoch 48/100\n",
      "5051/5051 [==============================] - 2s 393us/step - loss: 0.0518 - acc: 0.9743 - val_loss: 1.1077 - val_acc: 0.7486\n",
      "\n",
      "Epoch 00048: val_acc did not improve from 0.76479\n",
      "Epoch 49/100\n",
      "5051/5051 [==============================] - 2s 398us/step - loss: 0.0558 - acc: 0.9721 - val_loss: 1.0842 - val_acc: 0.7514\n",
      "\n",
      "Epoch 00049: val_acc did not improve from 0.76479\n",
      "Epoch 50/100\n",
      "5051/5051 [==============================] - 2s 393us/step - loss: 0.0577 - acc: 0.9741 - val_loss: 1.0691 - val_acc: 0.7579\n",
      "\n",
      "Epoch 00050: val_acc did not improve from 0.76479\n",
      "Epoch 51/100\n",
      "5051/5051 [==============================] - 2s 397us/step - loss: 0.0543 - acc: 0.9733 - val_loss: 1.0783 - val_acc: 0.7546\n",
      "\n",
      "Epoch 00051: val_acc did not improve from 0.76479\n",
      "Epoch 52/100\n",
      "5051/5051 [==============================] - 2s 396us/step - loss: 0.0508 - acc: 0.9749 - val_loss: 1.0911 - val_acc: 0.7505\n",
      "\n",
      "Epoch 00052: val_acc did not improve from 0.76479\n",
      "Epoch 53/100\n",
      "5051/5051 [==============================] - 2s 400us/step - loss: 0.0508 - acc: 0.9756 - val_loss: 1.1104 - val_acc: 0.7546\n",
      "\n",
      "Epoch 00053: val_acc did not improve from 0.76479\n",
      "Epoch 54/100\n",
      "5051/5051 [==============================] - 2s 394us/step - loss: 0.0501 - acc: 0.9758 - val_loss: 1.1182 - val_acc: 0.7542\n",
      "\n",
      "Epoch 00054: val_acc did not improve from 0.76479\n",
      "Epoch 55/100\n",
      "5051/5051 [==============================] - 2s 392us/step - loss: 0.0499 - acc: 0.9747 - val_loss: 1.1277 - val_acc: 0.7551\n",
      "\n",
      "Epoch 00055: val_acc did not improve from 0.76479\n",
      "Epoch 56/100\n",
      "5051/5051 [==============================] - 2s 395us/step - loss: 0.0513 - acc: 0.9727 - val_loss: 1.1394 - val_acc: 0.7546\n",
      "\n",
      "Epoch 00056: val_acc did not improve from 0.76479\n",
      "Epoch 57/100\n",
      "5051/5051 [==============================] - 2s 396us/step - loss: 0.0494 - acc: 0.9751 - val_loss: 1.1354 - val_acc: 0.7583\n",
      "\n",
      "Epoch 00057: val_acc did not improve from 0.76479\n",
      "Epoch 58/100\n",
      "5051/5051 [==============================] - 2s 394us/step - loss: 0.0469 - acc: 0.9774 - val_loss: 1.1374 - val_acc: 0.7569\n",
      "\n",
      "Epoch 00058: val_acc did not improve from 0.76479\n",
      "Epoch 59/100\n",
      "5051/5051 [==============================] - 2s 395us/step - loss: 0.0499 - acc: 0.9739 - val_loss: 1.1437 - val_acc: 0.7542\n",
      "\n",
      "Epoch 00059: val_acc did not improve from 0.76479\n",
      "Epoch 60/100\n",
      "5051/5051 [==============================] - 2s 402us/step - loss: 0.0489 - acc: 0.9741 - val_loss: 1.1603 - val_acc: 0.7551\n",
      "\n",
      "Epoch 00060: val_acc did not improve from 0.76479\n",
      "Epoch 61/100\n",
      "5051/5051 [==============================] - 2s 398us/step - loss: 0.0500 - acc: 0.9758 - val_loss: 1.1359 - val_acc: 0.7639\n",
      "\n",
      "Epoch 00061: val_acc did not improve from 0.76479\n",
      "Epoch 62/100\n",
      "5051/5051 [==============================] - 2s 394us/step - loss: 0.0539 - acc: 0.9733 - val_loss: 1.1334 - val_acc: 0.7560\n",
      "\n",
      "Epoch 00062: val_acc did not improve from 0.76479\n",
      "Epoch 63/100\n",
      "5051/5051 [==============================] - 2s 396us/step - loss: 0.0514 - acc: 0.9756 - val_loss: 1.1522 - val_acc: 0.7551\n",
      "\n",
      "Epoch 00063: val_acc did not improve from 0.76479\n",
      "Epoch 64/100\n",
      "5051/5051 [==============================] - 2s 397us/step - loss: 0.0490 - acc: 0.9739 - val_loss: 1.1435 - val_acc: 0.7579\n",
      "\n",
      "Epoch 00064: val_acc did not improve from 0.76479\n",
      "Epoch 65/100\n",
      "5051/5051 [==============================] - 2s 394us/step - loss: 0.0485 - acc: 0.9766 - val_loss: 1.1623 - val_acc: 0.7574\n",
      "\n",
      "Epoch 00065: val_acc did not improve from 0.76479\n",
      "Epoch 66/100\n",
      "5051/5051 [==============================] - 2s 394us/step - loss: 0.0493 - acc: 0.9743 - val_loss: 1.1712 - val_acc: 0.7569\n",
      "\n",
      "Epoch 00066: val_acc did not improve from 0.76479\n",
      "Epoch 67/100\n",
      "5051/5051 [==============================] - 2s 393us/step - loss: 0.0457 - acc: 0.9770 - val_loss: 1.1808 - val_acc: 0.7602\n",
      "\n",
      "Epoch 00067: val_acc did not improve from 0.76479\n",
      "Epoch 68/100\n",
      "5051/5051 [==============================] - 2s 399us/step - loss: 0.0480 - acc: 0.9764 - val_loss: 1.1865 - val_acc: 0.7606\n",
      "\n",
      "Epoch 00068: val_acc did not improve from 0.76479\n",
      "Epoch 69/100\n",
      "5051/5051 [==============================] - 2s 396us/step - loss: 0.0492 - acc: 0.9745 - val_loss: 1.1882 - val_acc: 0.7620\n",
      "\n",
      "Epoch 00069: val_acc did not improve from 0.76479\n",
      "Epoch 70/100\n",
      "5051/5051 [==============================] - 2s 394us/step - loss: 0.0501 - acc: 0.9743 - val_loss: 1.1995 - val_acc: 0.7606\n",
      "\n",
      "Epoch 00070: val_acc did not improve from 0.76479\n",
      "Epoch 71/100\n",
      "5051/5051 [==============================] - 2s 397us/step - loss: 0.0466 - acc: 0.9762 - val_loss: 1.2136 - val_acc: 0.7583\n",
      "\n",
      "Epoch 00071: val_acc did not improve from 0.76479\n",
      "Epoch 72/100\n",
      "5051/5051 [==============================] - 2s 393us/step - loss: 0.0455 - acc: 0.9764 - val_loss: 1.2052 - val_acc: 0.7565\n",
      "\n",
      "Epoch 00072: val_acc did not improve from 0.76479\n",
      "Epoch 73/100\n",
      "5051/5051 [==============================] - 2s 394us/step - loss: 0.0492 - acc: 0.9766 - val_loss: 1.2089 - val_acc: 0.7569\n",
      "\n",
      "Epoch 00073: val_acc did not improve from 0.76479\n",
      "Epoch 74/100\n",
      "5051/5051 [==============================] - 2s 395us/step - loss: 0.0481 - acc: 0.9770 - val_loss: 1.2232 - val_acc: 0.7528\n",
      "\n",
      "Epoch 00074: val_acc did not improve from 0.76479\n",
      "Epoch 75/100\n",
      "5051/5051 [==============================] - 2s 396us/step - loss: 0.0487 - acc: 0.9741 - val_loss: 1.2129 - val_acc: 0.7574\n",
      "\n",
      "Epoch 00075: val_acc did not improve from 0.76479\n",
      "Epoch 76/100\n",
      "5051/5051 [==============================] - 2s 397us/step - loss: 0.0483 - acc: 0.9753 - val_loss: 1.2227 - val_acc: 0.7579\n",
      "\n",
      "Epoch 00076: val_acc did not improve from 0.76479\n",
      "Epoch 77/100\n",
      "5051/5051 [==============================] - 2s 394us/step - loss: 0.0471 - acc: 0.9760 - val_loss: 1.2243 - val_acc: 0.7560\n",
      "\n",
      "Epoch 00077: val_acc did not improve from 0.76479\n",
      "Epoch 78/100\n",
      "5051/5051 [==============================] - 2s 395us/step - loss: 0.0454 - acc: 0.9762 - val_loss: 1.2273 - val_acc: 0.7560\n",
      "\n",
      "Epoch 00078: val_acc did not improve from 0.76479\n",
      "Epoch 79/100\n",
      "5051/5051 [==============================] - 2s 393us/step - loss: 0.0455 - acc: 0.9770 - val_loss: 1.2277 - val_acc: 0.7579\n",
      "\n",
      "Epoch 00079: val_acc did not improve from 0.76479\n",
      "Epoch 80/100\n",
      "5051/5051 [==============================] - 2s 397us/step - loss: 0.0466 - acc: 0.9751 - val_loss: 1.2242 - val_acc: 0.7569\n",
      "\n",
      "Epoch 00080: val_acc did not improve from 0.76479\n",
      "Epoch 81/100\n",
      "5051/5051 [==============================] - 2s 395us/step - loss: 0.0463 - acc: 0.9782 - val_loss: 1.2309 - val_acc: 0.7583\n",
      "\n",
      "Epoch 00081: val_acc did not improve from 0.76479\n",
      "Epoch 82/100\n",
      "5051/5051 [==============================] - 2s 393us/step - loss: 0.0454 - acc: 0.9764 - val_loss: 1.2277 - val_acc: 0.7569\n",
      "\n",
      "Epoch 00082: val_acc did not improve from 0.76479\n",
      "Epoch 83/100\n",
      "5051/5051 [==============================] - 2s 394us/step - loss: 0.0471 - acc: 0.9745 - val_loss: 1.2275 - val_acc: 0.7505\n",
      "\n",
      "Epoch 00083: val_acc did not improve from 0.76479\n",
      "Epoch 84/100\n",
      "5051/5051 [==============================] - 2s 399us/step - loss: 0.0465 - acc: 0.9766 - val_loss: 1.2390 - val_acc: 0.7583\n",
      "\n",
      "Epoch 00084: val_acc did not improve from 0.76479\n",
      "Epoch 85/100\n",
      "5051/5051 [==============================] - 2s 398us/step - loss: 0.0453 - acc: 0.9751 - val_loss: 1.2448 - val_acc: 0.7579\n",
      "\n",
      "Epoch 00085: val_acc did not improve from 0.76479\n",
      "Epoch 86/100\n",
      "5051/5051 [==============================] - 2s 395us/step - loss: 0.0454 - acc: 0.9762 - val_loss: 1.2721 - val_acc: 0.7542\n",
      "\n",
      "Epoch 00086: val_acc did not improve from 0.76479\n",
      "Epoch 87/100\n",
      "5051/5051 [==============================] - 2s 393us/step - loss: 0.0460 - acc: 0.9772 - val_loss: 1.2446 - val_acc: 0.7583\n",
      "\n",
      "Epoch 00087: val_acc did not improve from 0.76479\n",
      "Epoch 88/100\n",
      "5051/5051 [==============================] - 2s 395us/step - loss: 0.0443 - acc: 0.9766 - val_loss: 1.2434 - val_acc: 0.7616\n",
      "\n",
      "Epoch 00088: val_acc did not improve from 0.76479\n",
      "Epoch 89/100\n",
      "5051/5051 [==============================] - 2s 394us/step - loss: 0.0444 - acc: 0.9778 - val_loss: 1.2624 - val_acc: 0.7583\n",
      "\n",
      "Epoch 00089: val_acc did not improve from 0.76479\n",
      "Epoch 90/100\n",
      "5051/5051 [==============================] - 2s 393us/step - loss: 0.0486 - acc: 0.9729 - val_loss: 1.2641 - val_acc: 0.7537\n",
      "\n",
      "Epoch 00090: val_acc did not improve from 0.76479\n",
      "Epoch 91/100\n",
      "5051/5051 [==============================] - 2s 398us/step - loss: 0.0474 - acc: 0.9735 - val_loss: 1.2657 - val_acc: 0.7500\n",
      "\n",
      "Epoch 00091: val_acc did not improve from 0.76479\n",
      "Epoch 92/100\n",
      "5051/5051 [==============================] - 2s 394us/step - loss: 0.0463 - acc: 0.9745 - val_loss: 1.2688 - val_acc: 0.7426\n",
      "\n",
      "Epoch 00092: val_acc did not improve from 0.76479\n",
      "Epoch 93/100\n",
      "5051/5051 [==============================] - 2s 397us/step - loss: 0.0636 - acc: 0.9719 - val_loss: 1.1751 - val_acc: 0.7398\n",
      "\n",
      "Epoch 00093: val_acc did not improve from 0.76479\n",
      "Epoch 94/100\n",
      "5051/5051 [==============================] - 2s 401us/step - loss: 0.1086 - acc: 0.9592 - val_loss: 1.0441 - val_acc: 0.7384\n",
      "\n",
      "Epoch 00094: val_acc did not improve from 0.76479\n",
      "Epoch 95/100\n",
      "5051/5051 [==============================] - 2s 393us/step - loss: 0.1081 - acc: 0.9588 - val_loss: 1.0806 - val_acc: 0.7445\n",
      "\n",
      "Epoch 00095: val_acc did not improve from 0.76479\n",
      "Epoch 96/100\n",
      "5051/5051 [==============================] - 2s 395us/step - loss: 0.0913 - acc: 0.9632 - val_loss: 1.0848 - val_acc: 0.7380\n",
      "\n",
      "Epoch 00096: val_acc did not improve from 0.76479\n",
      "Epoch 97/100\n",
      "5051/5051 [==============================] - 2s 395us/step - loss: 0.0849 - acc: 0.9691 - val_loss: 1.1379 - val_acc: 0.7361\n",
      "\n",
      "Epoch 00097: val_acc did not improve from 0.76479\n",
      "Epoch 98/100\n",
      "5051/5051 [==============================] - 2s 400us/step - loss: 0.0701 - acc: 0.9725 - val_loss: 1.1191 - val_acc: 0.7495\n",
      "\n",
      "Epoch 00098: val_acc did not improve from 0.76479\n",
      "Epoch 99/100\n",
      "5051/5051 [==============================] - 2s 396us/step - loss: 0.0662 - acc: 0.9747 - val_loss: 1.1335 - val_acc: 0.7491\n",
      "\n",
      "Epoch 00099: val_acc did not improve from 0.76479\n",
      "Epoch 100/100\n",
      "5051/5051 [==============================] - 2s 397us/step - loss: 0.0547 - acc: 0.9743 - val_loss: 1.1561 - val_acc: 0.7491\n",
      "\n",
      "Epoch 00100: val_acc did not improve from 0.76479\n"
     ]
    },
    {
     "data": {
      "text/plain": [
       "<keras.callbacks.History at 0x7f7d441e7780>"
      ]
     },
     "execution_count": 64,
     "metadata": {},
     "output_type": "execute_result"
    }
   ],
   "source": [
    "model.fit(x_train, y_train, validation_data=(x_val, y_val), epochs=100, batch_size=300, callbacks=callbacks_list, verbose=1)"
   ]
  },
  {
   "cell_type": "markdown",
   "metadata": {},
   "source": [
    "# Model Evaluation"
   ]
  },
  {
   "cell_type": "code",
   "execution_count": 65,
   "metadata": {},
   "outputs": [],
   "source": [
    "model = load_model('./models/model-07-best.h5')"
   ]
  },
  {
   "cell_type": "code",
   "execution_count": 66,
   "metadata": {},
   "outputs": [],
   "source": [
    "eval_sequences = tokenizer.texts_to_sequences(corpus)\n",
    "word_index = tokenizer.word_index\n",
    "eval_data = pad_sequences(eval_sequences, maxlen=MAX_SEQUENCE_LENGTH)"
   ]
  },
  {
   "cell_type": "code",
   "execution_count": 67,
   "metadata": {},
   "outputs": [],
   "source": [
    "eval_y = genre_id"
   ]
  },
  {
   "cell_type": "code",
   "execution_count": 68,
   "metadata": {},
   "outputs": [],
   "source": [
    "vectorizer = Model(inputs=model.input, outputs=model.get_layer('dense_encoding').output)"
   ]
  },
  {
   "cell_type": "code",
   "execution_count": 69,
   "metadata": {},
   "outputs": [
    {
     "ename": "ValueError",
     "evalue": "Error when checking input: expected input_1 to have shape (1000,) but got array with shape (300,)",
     "output_type": "error",
     "traceback": [
      "\u001b[0;31m---------------------------------------------------------------------------\u001b[0m",
      "\u001b[0;31mValueError\u001b[0m                                Traceback (most recent call last)",
      "\u001b[0;32m<ipython-input-69-f0c2c0654f40>\u001b[0m in \u001b[0;36m<module>\u001b[0;34m()\u001b[0m\n\u001b[0;32m----> 1\u001b[0;31m \u001b[0meval_x\u001b[0m \u001b[0;34m=\u001b[0m \u001b[0mvectorizer\u001b[0m\u001b[0;34m.\u001b[0m\u001b[0mpredict\u001b[0m\u001b[0;34m(\u001b[0m\u001b[0meval_data\u001b[0m\u001b[0;34m)\u001b[0m\u001b[0;34m\u001b[0m\u001b[0m\n\u001b[0m",
      "\u001b[0;32m/usr/local/lib/python3.5/dist-packages/keras/engine/training.py\u001b[0m in \u001b[0;36mpredict\u001b[0;34m(self, x, batch_size, verbose, steps)\u001b[0m\n\u001b[1;32m   1145\u001b[0m                              'argument.')\n\u001b[1;32m   1146\u001b[0m         \u001b[0;31m# Validate user data.\u001b[0m\u001b[0;34m\u001b[0m\u001b[0;34m\u001b[0m\u001b[0m\n\u001b[0;32m-> 1147\u001b[0;31m         \u001b[0mx\u001b[0m\u001b[0;34m,\u001b[0m \u001b[0m_\u001b[0m\u001b[0;34m,\u001b[0m \u001b[0m_\u001b[0m \u001b[0;34m=\u001b[0m \u001b[0mself\u001b[0m\u001b[0;34m.\u001b[0m\u001b[0m_standardize_user_data\u001b[0m\u001b[0;34m(\u001b[0m\u001b[0mx\u001b[0m\u001b[0;34m)\u001b[0m\u001b[0;34m\u001b[0m\u001b[0m\n\u001b[0m\u001b[1;32m   1148\u001b[0m         \u001b[0;32mif\u001b[0m \u001b[0mself\u001b[0m\u001b[0;34m.\u001b[0m\u001b[0mstateful\u001b[0m\u001b[0;34m:\u001b[0m\u001b[0;34m\u001b[0m\u001b[0m\n\u001b[1;32m   1149\u001b[0m             \u001b[0;32mif\u001b[0m \u001b[0mx\u001b[0m\u001b[0;34m[\u001b[0m\u001b[0;36m0\u001b[0m\u001b[0;34m]\u001b[0m\u001b[0;34m.\u001b[0m\u001b[0mshape\u001b[0m\u001b[0;34m[\u001b[0m\u001b[0;36m0\u001b[0m\u001b[0;34m]\u001b[0m \u001b[0;34m>\u001b[0m \u001b[0mbatch_size\u001b[0m \u001b[0;32mand\u001b[0m \u001b[0mx\u001b[0m\u001b[0;34m[\u001b[0m\u001b[0;36m0\u001b[0m\u001b[0;34m]\u001b[0m\u001b[0;34m.\u001b[0m\u001b[0mshape\u001b[0m\u001b[0;34m[\u001b[0m\u001b[0;36m0\u001b[0m\u001b[0;34m]\u001b[0m \u001b[0;34m%\u001b[0m \u001b[0mbatch_size\u001b[0m \u001b[0;34m!=\u001b[0m \u001b[0;36m0\u001b[0m\u001b[0;34m:\u001b[0m\u001b[0;34m\u001b[0m\u001b[0m\n",
      "\u001b[0;32m/usr/local/lib/python3.5/dist-packages/keras/engine/training.py\u001b[0m in \u001b[0;36m_standardize_user_data\u001b[0;34m(self, x, y, sample_weight, class_weight, check_array_lengths, batch_size)\u001b[0m\n\u001b[1;32m    747\u001b[0m             \u001b[0mfeed_input_shapes\u001b[0m\u001b[0;34m,\u001b[0m\u001b[0;34m\u001b[0m\u001b[0m\n\u001b[1;32m    748\u001b[0m             \u001b[0mcheck_batch_axis\u001b[0m\u001b[0;34m=\u001b[0m\u001b[0;32mFalse\u001b[0m\u001b[0;34m,\u001b[0m  \u001b[0;31m# Don't enforce the batch size.\u001b[0m\u001b[0;34m\u001b[0m\u001b[0m\n\u001b[0;32m--> 749\u001b[0;31m             exception_prefix='input')\n\u001b[0m\u001b[1;32m    750\u001b[0m \u001b[0;34m\u001b[0m\u001b[0m\n\u001b[1;32m    751\u001b[0m         \u001b[0;32mif\u001b[0m \u001b[0my\u001b[0m \u001b[0;32mis\u001b[0m \u001b[0;32mnot\u001b[0m \u001b[0;32mNone\u001b[0m\u001b[0;34m:\u001b[0m\u001b[0;34m\u001b[0m\u001b[0m\n",
      "\u001b[0;32m/usr/local/lib/python3.5/dist-packages/keras/engine/training_utils.py\u001b[0m in \u001b[0;36mstandardize_input_data\u001b[0;34m(data, names, shapes, check_batch_axis, exception_prefix)\u001b[0m\n\u001b[1;32m    135\u001b[0m                             \u001b[0;34m': expected '\u001b[0m \u001b[0;34m+\u001b[0m \u001b[0mnames\u001b[0m\u001b[0;34m[\u001b[0m\u001b[0mi\u001b[0m\u001b[0;34m]\u001b[0m \u001b[0;34m+\u001b[0m \u001b[0;34m' to have shape '\u001b[0m \u001b[0;34m+\u001b[0m\u001b[0;34m\u001b[0m\u001b[0m\n\u001b[1;32m    136\u001b[0m                             \u001b[0mstr\u001b[0m\u001b[0;34m(\u001b[0m\u001b[0mshape\u001b[0m\u001b[0;34m)\u001b[0m \u001b[0;34m+\u001b[0m \u001b[0;34m' but got array with shape '\u001b[0m \u001b[0;34m+\u001b[0m\u001b[0;34m\u001b[0m\u001b[0m\n\u001b[0;32m--> 137\u001b[0;31m                             str(data_shape))\n\u001b[0m\u001b[1;32m    138\u001b[0m     \u001b[0;32mreturn\u001b[0m \u001b[0mdata\u001b[0m\u001b[0;34m\u001b[0m\u001b[0m\n\u001b[1;32m    139\u001b[0m \u001b[0;34m\u001b[0m\u001b[0m\n",
      "\u001b[0;31mValueError\u001b[0m: Error when checking input: expected input_1 to have shape (1000,) but got array with shape (300,)"
     ]
    }
   ],
   "source": [
    "eval_x = vectorizer.predict(eval_data)"
   ]
  },
  {
   "cell_type": "code",
   "execution_count": null,
   "metadata": {},
   "outputs": [],
   "source": [
    "np.mean(evaluate_performance(eval_x, eval_y)['test_f'])"
   ]
  },
  {
   "cell_type": "markdown",
   "metadata": {},
   "source": [
    "# Nearest Neighbors Search"
   ]
  },
  {
   "cell_type": "code",
   "execution_count": null,
   "metadata": {},
   "outputs": [],
   "source": [
    "annoy_index = AnnoyIndex(300, metric='angular')"
   ]
  },
  {
   "cell_type": "code",
   "execution_count": null,
   "metadata": {},
   "outputs": [],
   "source": [
    "for i, vector in enumerate(eval_x):\n",
    "    annoy_index.add_item(i, vector)"
   ]
  },
  {
   "cell_type": "code",
   "execution_count": null,
   "metadata": {},
   "outputs": [],
   "source": [
    "annoy_index.build(100)"
   ]
  },
  {
   "cell_type": "code",
   "execution_count": null,
   "metadata": {},
   "outputs": [],
   "source": [
    "def get_nearest_neighbors(index, n):\n",
    "    print(\"Original series:\\n{0}\\n\\n\".format(series_content[index]))\n",
    "    retrieved_series = annoy_index.get_nns_by_vector(eval_x[index], n)\n",
    "    for i, series_index in enumerate(retrieved_series):\n",
    "        print(\"Top {0} Nearest Series:\\n{1}\\n Genre: {2}\\n\\n\".format(i,series_content[series_index], genre_id[series_index]))"
   ]
  },
  {
   "cell_type": "code",
   "execution_count": null,
   "metadata": {},
   "outputs": [],
   "source": [
    "get_nearest_neighbors(550,100)"
   ]
  },
  {
   "cell_type": "code",
   "execution_count": null,
   "metadata": {},
   "outputs": [],
   "source": []
  }
 ],
 "metadata": {
  "kernelspec": {
   "display_name": "Python 3",
   "language": "python",
   "name": "python3"
  },
  "language_info": {
   "codemirror_mode": {
    "name": "ipython",
    "version": 3
   },
   "file_extension": ".py",
   "mimetype": "text/x-python",
   "name": "python",
   "nbconvert_exporter": "python",
   "pygments_lexer": "ipython3",
   "version": "3.6.7"
  },
  "nbTranslate": {
   "displayLangs": [
    "*"
   ],
   "hotkey": "alt-t",
   "langInMainMenu": true,
   "sourceLang": "en",
   "targetLang": "fr",
   "useGoogleTranslate": true
  },
  "toc": {
   "base_numbering": 1,
   "nav_menu": {},
   "number_sections": true,
   "sideBar": true,
   "skip_h1_title": false,
   "title_cell": "Table of Contents",
   "title_sidebar": "Contents",
   "toc_cell": false,
   "toc_position": {},
   "toc_section_display": true,
   "toc_window_display": true
  }
 },
 "nbformat": 4,
 "nbformat_minor": 2
}
